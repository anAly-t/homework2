{
 "cells": [
  {
   "cell_type": "code",
   "execution_count": null,
   "metadata": {},
   "outputs": [],
   "source": [
    "\n",
    "import pandas as pd\n",
    "from sklearn.cluster import KMeans\n",
    "from pandas import Timestamp, Series, date_range\n",
    "\n",
    "#group by time stamp and day type\n",
    "aggregated_df = df.groupby('Time_stamp')['Day_type']()\n",
    "\n",
    "\n",
    "# Sample data\n",
    "data = {\n",
    "    'Call_id': [],\n",
    "    'Call_type': []\n",
    "}\n",
    "\n",
    "df = pd.DataFrame(data)\n",
    "\n",
    "# Group by 'Call_id' and 'Call_type\n",
    "aggregated_df = df.groupby('Call_id')('Call_type')\n",
    "\n",
    "# Group by 'Time Stamp' and 'Day_Type\n",
    "aggregated_df = df.groupby('Time Stamp')('Day_Type')\n",
    "\n",
    "print(aggregated_df)\n",
    "\n",
    "df.isnull().sum()"
   ]
  },
  {
   "cell_type": "markdown",
   "metadata": {},
   "source": [
    "importing pandas to help read the data\n",
    "requirements are to convert datetime to timestamp\n",
    "figured it might be appropriate to group call id and call type together as well as time stamp and day type\n"
   ]
  },
  {
   "cell_type": "code",
   "execution_count": null,
   "metadata": {},
   "outputs": [],
   "source": [
    "import kagglehub\n",
    "# Download latest version\n",
    "path = kagglehub.dataset_download(\"crailtap/taxi-trajectory\")\n",
    "\n",
    "print(\"Path to dataset files:\", path)"
   ]
  },
  {
   "cell_type": "markdown",
   "metadata": {},
   "source": [
    "kagglehub is where the data is stored and needed to be downloaded from"
   ]
  },
  {
   "cell_type": "code",
   "execution_count": null,
   "metadata": {},
   "outputs": [],
   "source": [
    "\n",
    "df['column_name'].fillna(value, inplace=True)\n"
   ]
  },
  {
   "cell_type": "code",
   "execution_count": null,
   "metadata": {},
   "outputs": [],
   "source": [
    "# Import the datetime module\n",
    "from datetime import datetime\n",
    "\n",
    "# Convert the timestamp to datetime object\n",
    "dt_obj = datetime.fromtimestamp()\n",
    "\n",
    "# Print the result\n",
    "print(\"DateTime:\",dt_obj)\n",
    "print(\"Type of DateTime:\",type(dt_obj))"
   ]
  },
  {
   "cell_type": "code",
   "execution_count": null,
   "metadata": {},
   "outputs": [],
   "source": [
    "import plotly.express as px"
   ]
  },
  {
   "cell_type": "markdown",
   "metadata": {},
   "source": [
    "we can utilize plotly express to manipulate the data"
   ]
  },
  {
   "cell_type": "code",
   "execution_count": null,
   "metadata": {},
   "outputs": [],
   "source": [
    "import matplotlib.pyplot as plt\n",
    "import seaborn as sns"
   ]
  },
  {
   "cell_type": "markdown",
   "metadata": {},
   "source": [
    "matplotlib and seaborn are recommended to manipulate the data"
   ]
  },
  {
   "cell_type": "code",
   "execution_count": null,
   "metadata": {},
   "outputs": [],
   "source": [
    "#%%\n",
    "# Line Plot\n",
    "fig1 = go.Figure()\n",
    "fig1.add_trace(go.Scatter(x=df['Trip_Id'], y=df[''], mode='lines', name='Trip_Id'))\n",
    "fig1.update_layout(title='Trip_Id')\n",
    "fig1.show()\n",
    "\n"
   ]
  },
  {
   "cell_type": "code",
   "execution_count": null,
   "metadata": {},
   "outputs": [],
   "source": [
    "#%%\n",
    "# Bar Chart\n",
    "fig2 = go.Figure()\n",
    "fig2.add_trace(go.Bar(x=df['Call_Type'], y=df['Origin_Call'], name='Call Data'))\n",
    "fig2.update_layout(title='Breakdown of Call Data')\n",
    "fig2.show()\n"
   ]
  },
  {
   "cell_type": "markdown",
   "metadata": {},
   "source": []
  }
 ],
 "metadata": {
  "kernelspec": {
   "display_name": "Python 3",
   "language": "python",
   "name": "python3"
  },
  "language_info": {
   "name": "python",
   "version": "3.12.5"
  }
 },
 "nbformat": 4,
 "nbformat_minor": 2
}
